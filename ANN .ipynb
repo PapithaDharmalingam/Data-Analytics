{
  "nbformat": 4,
  "nbformat_minor": 0,
  "metadata": {
    "colab": {
      "name": "16z238ANN.ipynb",
      "version": "0.3.2",
      "provenance": []
    },
    "kernelspec": {
      "name": "python3",
      "display_name": "Python 3"
    }
  },
  "cells": [
    {
      "cell_type": "code",
      "metadata": {
        "id": "mKSbDHlSZ-iN",
        "colab_type": "code",
        "outputId": "1a91bff1-2b8e-42bd-b2d0-a4dbd9d6841f",
        "colab": {
          "base_uri": "https://localhost:8080/",
          "height": 34
        }
      },
      "source": [
        "from keras.models import Sequential\n",
        "from keras.layers import Dense\n",
        "import numpy as np\n"
      ],
      "execution_count": 2,
      "outputs": [
        {
          "output_type": "stream",
          "text": [
            "Using TensorFlow backend.\n"
          ],
          "name": "stderr"
        }
      ]
    },
    {
      "cell_type": "code",
      "metadata": {
        "id": "PaAMIhYydiMl",
        "colab_type": "code",
        "colab": {}
      },
      "source": [
        "from sklearn.model_selection import train_test_split"
      ],
      "execution_count": 0,
      "outputs": []
    },
    {
      "cell_type": "code",
      "metadata": {
        "id": "aUsCJB9bek33",
        "colab_type": "code",
        "outputId": "5bebf38f-05fe-4c31-ecb9-ad7fd932c1dc",
        "colab": {
          "base_uri": "https://localhost:8080/",
          "height": 51
        }
      },
      "source": [
        "ip=np.array([[1,0,1]])\n",
        "op=np.array([[1,0]])\n",
        "print(ip)\n",
        "print(op)"
      ],
      "execution_count": 4,
      "outputs": [
        {
          "output_type": "stream",
          "text": [
            "[[1 0 1]]\n",
            "[[1 0]]\n"
          ],
          "name": "stdout"
        }
      ]
    },
    {
      "cell_type": "code",
      "metadata": {
        "id": "ifZVz998e_VX",
        "colab_type": "code",
        "outputId": "b86b2eb9-0197-4ca5-944c-c3ce85f60935",
        "colab": {
          "base_uri": "https://localhost:8080/",
          "height": 156
        }
      },
      "source": [
        "model=Sequential()\n",
        "h1=model.add(Dense(2,activation=\"sigmoid\",input_dim=3))\n",
        "h2=model.add(Dense(3,activation=\"sigmoid\"))\n",
        "o = model.add(Dense(2,activation=\"sigmoid\"))"
      ],
      "execution_count": 5,
      "outputs": [
        {
          "output_type": "stream",
          "text": [
            "WARNING: Logging before flag parsing goes to stderr.\n",
            "W0827 06:05:47.001923 140516520679296 deprecation_wrapper.py:119] From /usr/local/lib/python3.6/dist-packages/keras/backend/tensorflow_backend.py:74: The name tf.get_default_graph is deprecated. Please use tf.compat.v1.get_default_graph instead.\n",
            "\n",
            "W0827 06:05:47.052598 140516520679296 deprecation_wrapper.py:119] From /usr/local/lib/python3.6/dist-packages/keras/backend/tensorflow_backend.py:517: The name tf.placeholder is deprecated. Please use tf.compat.v1.placeholder instead.\n",
            "\n",
            "W0827 06:05:47.062975 140516520679296 deprecation_wrapper.py:119] From /usr/local/lib/python3.6/dist-packages/keras/backend/tensorflow_backend.py:4138: The name tf.random_uniform is deprecated. Please use tf.random.uniform instead.\n",
            "\n"
          ],
          "name": "stderr"
        }
      ]
    },
    {
      "cell_type": "code",
      "metadata": {
        "id": "gugLXSwQhIya",
        "colab_type": "code",
        "outputId": "feba37bd-fe3e-405b-9e39-8c65785d6d8c",
        "colab": {
          "base_uri": "https://localhost:8080/",
          "height": 156
        }
      },
      "source": [
        "weight_layer1=np.array([[0.2,-0.3],[0.4,0.1],[-0.5,0.2]])\n",
        "bias1=np.array([-0.4,0.2])\n",
        "l=[]\n",
        "l.append(weight_layer1)\n",
        "l.append(bias1)\n",
        "model.layers[0].set_weights(l)\n",
        "model.layers[0].get_weights()"
      ],
      "execution_count": 7,
      "outputs": [
        {
          "output_type": "stream",
          "text": [
            "W0827 06:06:32.382838 140516520679296 deprecation_wrapper.py:119] From /usr/local/lib/python3.6/dist-packages/keras/backend/tensorflow_backend.py:174: The name tf.get_default_session is deprecated. Please use tf.compat.v1.get_default_session instead.\n",
            "\n",
            "W0827 06:06:32.384808 140516520679296 deprecation_wrapper.py:119] From /usr/local/lib/python3.6/dist-packages/keras/backend/tensorflow_backend.py:181: The name tf.ConfigProto is deprecated. Please use tf.compat.v1.ConfigProto instead.\n",
            "\n"
          ],
          "name": "stderr"
        },
        {
          "output_type": "execute_result",
          "data": {
            "text/plain": [
              "[array([[ 0.2, -0.3],\n",
              "        [ 0.4,  0.1],\n",
              "        [-0.5,  0.2]], dtype=float32), array([-0.4,  0.2], dtype=float32)]"
            ]
          },
          "metadata": {
            "tags": []
          },
          "execution_count": 7
        }
      ]
    },
    {
      "cell_type": "code",
      "metadata": {
        "id": "N6VNBQw8iqBG",
        "colab_type": "code",
        "outputId": "a6093810-247e-4a88-e513-b063b286cf14",
        "colab": {
          "base_uri": "https://localhost:8080/",
          "height": 68
        }
      },
      "source": [
        "weight_layer2=np.array([[-0.3,0.2,0.6],[-0.2,-0.1,-0.2]])\n",
        "bias2=np.array([0.1,0.1,0.2])\n",
        "l=[]\n",
        "l.append(weight_layer2)\n",
        "l.append(bias2)\n",
        "model.layers[1].set_weights(l)\n",
        "model.layers[1].get_weights()"
      ],
      "execution_count": 8,
      "outputs": [
        {
          "output_type": "execute_result",
          "data": {
            "text/plain": [
              "[array([[-0.3,  0.2,  0.6],\n",
              "        [-0.2, -0.1, -0.2]], dtype=float32),\n",
              " array([0.1, 0.1, 0.2], dtype=float32)]"
            ]
          },
          "metadata": {
            "tags": []
          },
          "execution_count": 8
        }
      ]
    },
    {
      "cell_type": "code",
      "metadata": {
        "id": "Y1N03Wthjrhu",
        "colab_type": "code",
        "outputId": "403faf02-f83f-4cf2-fc25-f489236cb184",
        "colab": {
          "base_uri": "https://localhost:8080/",
          "height": 68
        }
      },
      "source": [
        "weight_layer3=np.array([[0.3,0.2],[-0.5,0.5],[-0.7,0.2]])\n",
        "bias3=np.array([0.1,0.2])\n",
        "l=[]\n",
        "l.append(weight_layer3)\n",
        "l.append(bias3)\n",
        "model.layers[2].set_weights(l)\n",
        "model.layers[2].get_weights()"
      ],
      "execution_count": 9,
      "outputs": [
        {
          "output_type": "execute_result",
          "data": {
            "text/plain": [
              "[array([[ 0.3,  0.2],\n",
              "        [-0.5,  0.5],\n",
              "        [-0.7,  0.2]], dtype=float32), array([0.1, 0.2], dtype=float32)]"
            ]
          },
          "metadata": {
            "tags": []
          },
          "execution_count": 9
        }
      ]
    },
    {
      "cell_type": "markdown",
      "metadata": {
        "id": "TssI7ot7xUrS",
        "colab_type": "text"
      },
      "source": [
        "**USING MEAN ABSOLUTE ERROR LOSS FUNCTION**"
      ]
    },
    {
      "cell_type": "code",
      "metadata": {
        "id": "EPxR-pDAkv1t",
        "colab_type": "code",
        "colab": {}
      },
      "source": [
        "from keras import optimizers\n",
        "optimizers.Adam(lr=0.9)\n",
        "model.compile(loss=\"mean_absolute_error\",optimizer=\"Adam\",metrics=['accuracy'])"
      ],
      "execution_count": 0,
      "outputs": []
    },
    {
      "cell_type": "code",
      "metadata": {
        "id": "lb-Doav6k1_-",
        "colab_type": "code",
        "outputId": "dba86579-d483-4c62-de45-cc25f6decb43",
        "colab": {
          "base_uri": "https://localhost:8080/",
          "height": 238
        }
      },
      "source": [
        "model.summary()"
      ],
      "execution_count": 32,
      "outputs": [
        {
          "output_type": "stream",
          "text": [
            "_________________________________________________________________\n",
            "Layer (type)                 Output Shape              Param #   \n",
            "=================================================================\n",
            "dense_1 (Dense)              (None, 2)                 8         \n",
            "_________________________________________________________________\n",
            "dense_2 (Dense)              (None, 3)                 9         \n",
            "_________________________________________________________________\n",
            "dense_3 (Dense)              (None, 2)                 8         \n",
            "=================================================================\n",
            "Total params: 25\n",
            "Trainable params: 25\n",
            "Non-trainable params: 0\n",
            "_________________________________________________________________\n"
          ],
          "name": "stdout"
        }
      ]
    },
    {
      "cell_type": "code",
      "metadata": {
        "id": "PZokk9ynk-KV",
        "colab_type": "code",
        "outputId": "b185461c-8ef1-4a03-e9b5-6cb0e8e43382",
        "colab": {
          "base_uri": "https://localhost:8080/",
          "height": 374
        }
      },
      "source": [
        "model.fit(ip,op,batch_size=1,epochs=10)"
      ],
      "execution_count": 34,
      "outputs": [
        {
          "output_type": "stream",
          "text": [
            "Epoch 1/10\n",
            "1/1 [==============================] - 0s 2ms/step - loss: 0.5229 - acc: 0.0000e+00\n",
            "Epoch 2/10\n",
            "1/1 [==============================] - 0s 2ms/step - loss: 0.5222 - acc: 0.0000e+00\n",
            "Epoch 3/10\n",
            "1/1 [==============================] - 0s 2ms/step - loss: 0.5215 - acc: 0.0000e+00\n",
            "Epoch 4/10\n",
            "1/1 [==============================] - 0s 2ms/step - loss: 0.5208 - acc: 0.0000e+00\n",
            "Epoch 5/10\n",
            "1/1 [==============================] - 0s 1ms/step - loss: 0.5200 - acc: 0.0000e+00\n",
            "Epoch 6/10\n",
            "1/1 [==============================] - 0s 1ms/step - loss: 0.5193 - acc: 0.0000e+00\n",
            "Epoch 7/10\n",
            "1/1 [==============================] - 0s 1ms/step - loss: 0.5186 - acc: 0.0000e+00\n",
            "Epoch 8/10\n",
            "1/1 [==============================] - 0s 2ms/step - loss: 0.5178 - acc: 0.0000e+00\n",
            "Epoch 9/10\n",
            "1/1 [==============================] - 0s 2ms/step - loss: 0.5171 - acc: 0.0000e+00\n",
            "Epoch 10/10\n",
            "1/1 [==============================] - 0s 2ms/step - loss: 0.5164 - acc: 0.0000e+00\n"
          ],
          "name": "stdout"
        },
        {
          "output_type": "execute_result",
          "data": {
            "text/plain": [
              "<keras.callbacks.History at 0x7fcc463368d0>"
            ]
          },
          "metadata": {
            "tags": []
          },
          "execution_count": 34
        }
      ]
    },
    {
      "cell_type": "markdown",
      "metadata": {
        "id": "OyfjapOgxcv1",
        "colab_type": "text"
      },
      "source": [
        "**USING MEAN SQUARED ERROR LOSS FUNCTION**"
      ]
    },
    {
      "cell_type": "code",
      "metadata": {
        "id": "eo_YSQ6JxFYK",
        "colab_type": "code",
        "colab": {}
      },
      "source": [
        "from keras import optimizers\n",
        "optimizers.Adam(lr=0.9)\n",
        "model.compile(loss=\"mean_squared_error\",optimizer=\"Adam\",metrics=['accuracy'])"
      ],
      "execution_count": 0,
      "outputs": []
    },
    {
      "cell_type": "code",
      "metadata": {
        "id": "-eVdW6qOxMNo",
        "colab_type": "code",
        "colab": {
          "base_uri": "https://localhost:8080/",
          "height": 238
        },
        "outputId": "f3434318-b653-4855-931e-498ae2797e83"
      },
      "source": [
        "model.summary()"
      ],
      "execution_count": 36,
      "outputs": [
        {
          "output_type": "stream",
          "text": [
            "_________________________________________________________________\n",
            "Layer (type)                 Output Shape              Param #   \n",
            "=================================================================\n",
            "dense_1 (Dense)              (None, 2)                 8         \n",
            "_________________________________________________________________\n",
            "dense_2 (Dense)              (None, 3)                 9         \n",
            "_________________________________________________________________\n",
            "dense_3 (Dense)              (None, 2)                 8         \n",
            "=================================================================\n",
            "Total params: 25\n",
            "Trainable params: 25\n",
            "Non-trainable params: 0\n",
            "_________________________________________________________________\n"
          ],
          "name": "stdout"
        }
      ]
    },
    {
      "cell_type": "code",
      "metadata": {
        "id": "r78kwk4XxQLS",
        "colab_type": "code",
        "colab": {
          "base_uri": "https://localhost:8080/",
          "height": 374
        },
        "outputId": "b3ce21a4-61bf-4960-c00b-844749e8b962"
      },
      "source": [
        "model.fit(ip,op,batch_size=1,epochs=10)"
      ],
      "execution_count": 37,
      "outputs": [
        {
          "output_type": "stream",
          "text": [
            "Epoch 1/10\n",
            "1/1 [==============================] - 0s 338ms/step - loss: 0.2676 - acc: 0.0000e+00\n",
            "Epoch 2/10\n",
            "1/1 [==============================] - 0s 2ms/step - loss: 0.2670 - acc: 0.0000e+00\n",
            "Epoch 3/10\n",
            "1/1 [==============================] - 0s 2ms/step - loss: 0.2664 - acc: 0.0000e+00\n",
            "Epoch 4/10\n",
            "1/1 [==============================] - 0s 1ms/step - loss: 0.2657 - acc: 0.0000e+00\n",
            "Epoch 5/10\n",
            "1/1 [==============================] - 0s 1ms/step - loss: 0.2650 - acc: 0.0000e+00\n",
            "Epoch 6/10\n",
            "1/1 [==============================] - 0s 1ms/step - loss: 0.2643 - acc: 0.0000e+00\n",
            "Epoch 7/10\n",
            "1/1 [==============================] - 0s 1ms/step - loss: 0.2636 - acc: 0.0000e+00\n",
            "Epoch 8/10\n",
            "1/1 [==============================] - 0s 1ms/step - loss: 0.2629 - acc: 0.0000e+00\n",
            "Epoch 9/10\n",
            "1/1 [==============================] - 0s 1ms/step - loss: 0.2621 - acc: 0.0000e+00\n",
            "Epoch 10/10\n",
            "1/1 [==============================] - 0s 1ms/step - loss: 0.2614 - acc: 0.0000e+00\n"
          ],
          "name": "stdout"
        },
        {
          "output_type": "execute_result",
          "data": {
            "text/plain": [
              "<keras.callbacks.History at 0x7fcc456d4320>"
            ]
          },
          "metadata": {
            "tags": []
          },
          "execution_count": 37
        }
      ]
    }
  ]
}