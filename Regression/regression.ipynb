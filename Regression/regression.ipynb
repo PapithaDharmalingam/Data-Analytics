{
 "cells": [
  {
   "cell_type": "code",
   "execution_count": 1,
   "metadata": {},
   "outputs": [
    {
     "data": {
      "text/plain": [
       "Formatted Date              False\n",
       "Summary                     False\n",
       "Precip Type                 False\n",
       "Temperature (C)             False\n",
       "Apparent Temperature (C)    False\n",
       "Humidity                    False\n",
       "Wind Speed (km/h)           False\n",
       "Wind Bearing (degrees)      False\n",
       "Visibility (km)             False\n",
       "Loud Cover                  False\n",
       "Pressure (millibars)        False\n",
       "Daily Summary               False\n",
       "dtype: bool"
      ]
     },
     "execution_count": 1,
     "metadata": {},
     "output_type": "execute_result"
    }
   ],
   "source": [
    "from sklearn.linear_model import LinearRegression\n",
    "import pandas as pd\n",
    "df = pd.read_csv(\"Downloads/weatherHistory.csv\")\n",
    "df.isnull().any()"
   ]
  },
  {
   "cell_type": "code",
   "execution_count": 2,
   "metadata": {},
   "outputs": [
    {
     "data": {
      "text/plain": [
       "(96453, 12)"
      ]
     },
     "execution_count": 2,
     "metadata": {},
     "output_type": "execute_result"
    }
   ],
   "source": [
    "#Replace every nan values with 0\n",
    "df.fillna(value=0,axis=1,inplace=True)\n",
    "df.shape"
   ]
  },
  {
   "cell_type": "code",
   "execution_count": 4,
   "metadata": {},
   "outputs": [
    {
     "data": {
      "text/html": [
       "<div>\n",
       "<style>\n",
       "    .dataframe thead tr:only-child th {\n",
       "        text-align: right;\n",
       "    }\n",
       "\n",
       "    .dataframe thead th {\n",
       "        text-align: left;\n",
       "    }\n",
       "\n",
       "    .dataframe tbody tr th {\n",
       "        vertical-align: top;\n",
       "    }\n",
       "</style>\n",
       "<table border=\"1\" class=\"dataframe\">\n",
       "  <thead>\n",
       "    <tr style=\"text-align: right;\">\n",
       "      <th></th>\n",
       "      <th>Formatted Date</th>\n",
       "      <th>Summary</th>\n",
       "      <th>Precip Type</th>\n",
       "      <th>Temperature (C)</th>\n",
       "      <th>Apparent Temperature (C)</th>\n",
       "      <th>Humidity</th>\n",
       "      <th>Wind Speed (km/h)</th>\n",
       "      <th>Wind Bearing (degrees)</th>\n",
       "      <th>Visibility (km)</th>\n",
       "      <th>Loud Cover</th>\n",
       "      <th>Pressure (millibars)</th>\n",
       "      <th>Daily Summary</th>\n",
       "    </tr>\n",
       "  </thead>\n",
       "  <tbody>\n",
       "    <tr>\n",
       "      <th>10241</th>\n",
       "      <td>2007-08-09 17:00:00.000 +0200</td>\n",
       "      <td>Partly Cloudy</td>\n",
       "      <td>rain</td>\n",
       "      <td>30.811111</td>\n",
       "      <td>30.100000</td>\n",
       "      <td>0.35</td>\n",
       "      <td>10.8514</td>\n",
       "      <td>87.0</td>\n",
       "      <td>11.4471</td>\n",
       "      <td>0.0</td>\n",
       "      <td>1005.09</td>\n",
       "      <td>Partly cloudy throughout the day.</td>\n",
       "    </tr>\n",
       "    <tr>\n",
       "      <th>20050</th>\n",
       "      <td>2008-02-20 10:00:00.000 +0100</td>\n",
       "      <td>Clear</td>\n",
       "      <td>rain</td>\n",
       "      <td>6.938889</td>\n",
       "      <td>6.938889</td>\n",
       "      <td>0.62</td>\n",
       "      <td>0.8372</td>\n",
       "      <td>206.0</td>\n",
       "      <td>7.7280</td>\n",
       "      <td>0.0</td>\n",
       "      <td>1027.66</td>\n",
       "      <td>Foggy in the morning.</td>\n",
       "    </tr>\n",
       "    <tr>\n",
       "      <th>92028</th>\n",
       "      <td>2016-07-08 15:00:00.000 +0200</td>\n",
       "      <td>Mostly Cloudy</td>\n",
       "      <td>rain</td>\n",
       "      <td>27.777778</td>\n",
       "      <td>26.861111</td>\n",
       "      <td>0.28</td>\n",
       "      <td>4.6368</td>\n",
       "      <td>195.0</td>\n",
       "      <td>16.1000</td>\n",
       "      <td>0.0</td>\n",
       "      <td>1019.18</td>\n",
       "      <td>Partly cloudy starting in the morning.</td>\n",
       "    </tr>\n",
       "    <tr>\n",
       "      <th>62508</th>\n",
       "      <td>2013-08-24 12:00:00.000 +0200</td>\n",
       "      <td>Mostly Cloudy</td>\n",
       "      <td>rain</td>\n",
       "      <td>24.800000</td>\n",
       "      <td>24.800000</td>\n",
       "      <td>0.40</td>\n",
       "      <td>9.7244</td>\n",
       "      <td>19.0</td>\n",
       "      <td>10.2557</td>\n",
       "      <td>0.0</td>\n",
       "      <td>1013.95</td>\n",
       "      <td>Mostly cloudy throughout the day.</td>\n",
       "    </tr>\n",
       "    <tr>\n",
       "      <th>95017</th>\n",
       "      <td>2016-10-10 05:00:00.000 +0200</td>\n",
       "      <td>Foggy</td>\n",
       "      <td>rain</td>\n",
       "      <td>1.677778</td>\n",
       "      <td>1.677778</td>\n",
       "      <td>0.96</td>\n",
       "      <td>3.1556</td>\n",
       "      <td>334.0</td>\n",
       "      <td>2.7853</td>\n",
       "      <td>0.0</td>\n",
       "      <td>1022.79</td>\n",
       "      <td>Foggy in the morning.</td>\n",
       "    </tr>\n",
       "  </tbody>\n",
       "</table>\n",
       "</div>"
      ],
      "text/plain": [
       "                      Formatted Date        Summary Precip Type  \\\n",
       "10241  2007-08-09 17:00:00.000 +0200  Partly Cloudy        rain   \n",
       "20050  2008-02-20 10:00:00.000 +0100          Clear        rain   \n",
       "92028  2016-07-08 15:00:00.000 +0200  Mostly Cloudy        rain   \n",
       "62508  2013-08-24 12:00:00.000 +0200  Mostly Cloudy        rain   \n",
       "95017  2016-10-10 05:00:00.000 +0200          Foggy        rain   \n",
       "\n",
       "       Temperature (C)  Apparent Temperature (C)  Humidity  Wind Speed (km/h)  \\\n",
       "10241        30.811111                 30.100000      0.35            10.8514   \n",
       "20050         6.938889                  6.938889      0.62             0.8372   \n",
       "92028        27.777778                 26.861111      0.28             4.6368   \n",
       "62508        24.800000                 24.800000      0.40             9.7244   \n",
       "95017         1.677778                  1.677778      0.96             3.1556   \n",
       "\n",
       "       Wind Bearing (degrees)  Visibility (km)  Loud Cover  \\\n",
       "10241                    87.0          11.4471         0.0   \n",
       "20050                   206.0           7.7280         0.0   \n",
       "92028                   195.0          16.1000         0.0   \n",
       "62508                    19.0          10.2557         0.0   \n",
       "95017                   334.0           2.7853         0.0   \n",
       "\n",
       "       Pressure (millibars)                           Daily Summary  \n",
       "10241               1005.09       Partly cloudy throughout the day.  \n",
       "20050               1027.66                   Foggy in the morning.  \n",
       "92028               1019.18  Partly cloudy starting in the morning.  \n",
       "62508               1013.95       Mostly cloudy throughout the day.  \n",
       "95017               1022.79                   Foggy in the morning.  "
      ]
     },
     "execution_count": 4,
     "metadata": {},
     "output_type": "execute_result"
    }
   ],
   "source": [
    "from sklearn.model_selection import train_test_split \n",
    "train, test = train_test_split(df,test_size=0.30)\n",
    "train.head()"
   ]
  },
  {
   "cell_type": "code",
   "execution_count": 8,
   "metadata": {},
   "outputs": [],
   "source": [
    "from sklearn.linear_model import LogisticRegression\n",
    "#Fill the training and test data with require information\n",
    "X_train = train['Humidity'].dropna().values.reshape((-1, 1))\n",
    "y_train = train['Temperature (C)'].dropna()\n",
    "X_test = test['Humidity'].dropna().values.reshape((-1, 1))\n",
    "y_test = test['Temperature (C)'].dropna()"
   ]
  },
  {
   "cell_type": "code",
   "execution_count": 9,
   "metadata": {},
   "outputs": [
    {
     "data": {
      "text/plain": [
       "LinearRegression(copy_X=True, fit_intercept=True, n_jobs=1, normalize=False)"
      ]
     },
     "execution_count": 9,
     "metadata": {},
     "output_type": "execute_result"
    }
   ],
   "source": [
    "from sklearn import linear_model# compute classification accuracy for the linear regression model\n",
    "from sklearn import metrics # for the check the error and accuracy of the model\n",
    "lin = linear_model.LinearRegression()\n",
    "# train the model on the training set\n",
    "lin.fit(X_train, y_train)"
   ]
  },
  {
   "cell_type": "code",
   "execution_count": 10,
   "metadata": {},
   "outputs": [
    {
     "name": "stdout",
     "output_type": "stream",
     "text": [
      "Training score:  0.39174745227279484\n",
      "Testing score:  0.4031144870210867\n"
     ]
    }
   ],
   "source": [
    "lin_score_train = lin.score(X_test, y_test)\n",
    "lin_score_test = lin.score(X_train, y_train)\n",
    "print(\"Training score: \",lin_score_train)\n",
    "print(\"Testing score: \",lin_score_test)"
   ]
  },
  {
   "cell_type": "code",
   "execution_count": 13,
   "metadata": {},
   "outputs": [
    {
     "data": {
      "image/png": "[encoded data removed]",
      "text/plain": [
       "<Figure size 432x288 with 1 Axes>"
      ]
     },
     "metadata": {},
     "output_type": "display_data"
    }
   ],
   "source": [
    "import matplotlib.pyplot as plt\n",
    "predictions = lin.predict(X_test)\n",
    "\n",
    "plt.scatter(y_test,predictions)\n",
    "plt.xlabel(\"test\")\n",
    "plt.ylabel(\"predicted\")\n",
    "plt.show()"
   ]
  },
  {
   "cell_type": "code",
   "execution_count": null,
   "metadata": {
    "collapsed": true
   },
   "outputs": [],
   "source": []
  }
 ],
 "metadata": {
  "kernelspec": {
   "display_name": "Python 3",
   "language": "python",
   "name": "python3"
  },
  "language_info": {
   "codemirror_mode": {
    "name": "ipython",
    "version": 3
   },
   "file_extension": ".py",
   "mimetype": "text/x-python",
   "name": "python",
   "nbconvert_exporter": "python",
   "pygments_lexer": "ipython3",
   "version": "3.6.3"
  }
 },
 "nbformat": 4,
 "nbformat_minor": 2
}
